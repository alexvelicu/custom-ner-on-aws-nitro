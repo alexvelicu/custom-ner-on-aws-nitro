{
 "cells": [
  {
   "cell_type": "code",
   "execution_count": 2,
   "metadata": {},
   "outputs": [
    {
     "name": "stdout",
     "output_type": "stream",
     "text": [
      "b'-----BEGIN CERTIFICATE-----\\nMIICBzCCAY0CCQCzr7myCHyxhjAKBggqhkjOPQQDAzBtMRMwEQYDVQQDDApTbWFs\\nc05pdHJvMQswCQYDVQQGEwJCRTERMA8GA1UECAwIQnJ1c3NlbHMxETAPBgNVBAcM\\nCEJydXNzZWxzMQ4wDAYDVQQKDAVTbWFsczETMBEGA1UECwwKU21hbHNOaXRybzAe\\nFw0yMzAzMDgxNzM0MjZaFw0yMzA0MDcxNzM0MjZaMG0xEzARBgNVBAMMClNtYWxz\\nTml0cm8xCzAJBgNVBAYTAkJFMREwDwYDVQQIDAhCcnVzc2VsczERMA8GA1UEBwwI\\nQnJ1c3NlbHMxDjAMBgNVBAoMBVNtYWxzMRMwEQYDVQQLDApTbWFsc05pdHJvMHYw\\nEAYHKoZIzj0CAQYFK4EEACIDYgAErptuWGL0f8iJ2kiE+IiifLyxH/0w2PuALVaF\\nl6wVeugSFZCWJlk5lZZzCFOCpq8s2UEc5JDakHtgPZ1aWTq/9Qeo6g69t7cbh7fm\\nEhICDND1MVLx0DmZk1uQSv8at6mrMAoGCCqGSM49BAMDA2gAMGUCMQCEnFvWl4Av\\npyw85SAlQsaHZSn96W/LQlbmxhUrYsMV0lKcs/qo+UyYOMOSww40GesCMCXgXX15\\nRHQ8ya1lrk8qAnWQ5AeoegIIdfzTU4v2KVpSy2F/Y9rbECAb61uNtIb5xQ==\\n-----END CERTIFICATE-----\\n'\n",
      "<Certificate(subject=<Name(CN=SmalsNitro,C=BE,ST=Brussels,L=Brussels,O=Smals,OU=SmalsNitro)>, ...)>\n",
      "Expected PCR8: 3b8ba86e98c9ed9ecc1ed5303c1fbdc6fa3f953e30948166492f2712c60259172e17f1d64658ae9666c1ca6197e8b2b2\n"
     ]
    }
   ],
   "source": [
    "# Verification of the PCR8 value\n",
    "from cryptography import x509\n",
    "from cryptography.hazmat.primitives import hashes\n",
    "\n",
    "# Load PEM encoded certificate\n",
    "with open(\"nitro-test-certificate.pem\", \"rb\") as file:\n",
    "    cert_pem = file.read()\n",
    "    print(cert_pem)\n",
    "    cert = x509.load_pem_x509_certificate(cert_pem)\n",
    "\n",
    "# Generate a SHA384 hash of the DER encoded certificate\n",
    "cert_hash = cert.fingerprint(hashes.SHA384())\n",
    "print(cert)\n",
    "\n",
    "# Hash the previous hash with a zeroed string\n",
    "hasher = hashes.Hash(hashes.SHA384())\n",
    "hash_size = hashes.SHA384.digest_size\n",
    "hasher.update(b'\\0' * hash_size)\n",
    "hasher.update(cert_hash)\n",
    "print(f'Expected PCR8: {hasher.finalize().hex()}')\n",
    "\n"
   ]
  }
 ],
 "metadata": {
  "kernelspec": {
   "display_name": ".venv",
   "language": "python",
   "name": "python3"
  },
  "language_info": {
   "codemirror_mode": {
    "name": "ipython",
    "version": 3
   },
   "file_extension": ".py",
   "mimetype": "text/x-python",
   "name": "python",
   "nbconvert_exporter": "python",
   "pygments_lexer": "ipython3",
   "version": "3.7.16"
  },
  "orig_nbformat": 4
 },
 "nbformat": 4,
 "nbformat_minor": 2
}
